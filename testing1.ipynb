{
 "cells": [
  {
   "cell_type": "code",
   "execution_count": 2,
   "metadata": {},
   "outputs": [],
   "source": [
    "import pandas as pd\n",
    "import numpy as np\n",
    "import seaborn as sns\n",
    "import matplotlib.pyplot as plt\n",
    "import warnings\n",
    "warnings.filterwarnings(\"ignore\")\n",
    "import os\n",
    "for dirname, _, filenames in os.walk('/kaggle/input'):\n",
    "    for filename in filenames:\n",
    "        print(os.path.join(dirname, filename))"
   ]
  },
  {
   "cell_type": "code",
   "execution_count": 2,
   "metadata": {},
   "outputs": [],
   "source": [
    "# Importing Libraries\n",
    "import numpy as np\n",
    "import pandas as pd\n",
    "import seaborn as sns\n",
    "import matplotlib.pyplot as plt\n",
    "from sklearn.model_selection import train_test_split\n",
    "from sklearn.naive_bayes import GaussianNB\n",
    "from sklearn import preprocessing\n",
    "from sklearn.metrics import recall_score, accuracy_score, confusion_matrix\n",
    "import plotly.express as px\n",
    "import warnings"
   ]
  },
  {
   "cell_type": "code",
   "execution_count": 3,
   "metadata": {},
   "outputs": [],
   "source": [
    "warnings.filterwarnings(\"ignore\")\n",
    "import os\n",
    "for dirname, _, filenames in os.walk('/kaggle/input'):\n",
    "    for filename in filenames:\n",
    "        print(os.path.join(dirname, filename))\n",
    "\n",
    "# Inputting Data\n",
    "train_df = pd.read_csv(\"train.csv\")\n",
    "test_df = pd.read_csv(\"test.csv\")"
   ]
  },
  {
   "cell_type": "code",
   "execution_count": null,
   "metadata": {},
   "outputs": [],
   "source": [
    "train_df.info()"
   ]
  },
  {
   "cell_type": "code",
   "execution_count": null,
   "metadata": {},
   "outputs": [],
   "source": [
    "print(train_df.isnull().sum())\n",
    "test_df.isnull().sum()"
   ]
  },
  {
   "cell_type": "code",
   "execution_count": 6,
   "metadata": {},
   "outputs": [],
   "source": [
    "train_df.drop(['id'], axis=1, inplace=True)"
   ]
  },
  {
   "cell_type": "code",
   "execution_count": 7,
   "metadata": {},
   "outputs": [],
   "source": [
    "def colchange(train_df):\n",
    "    train_df['Sex'] = train_df['Sex'].replace(['F', 'M'], [0, 1])\n",
    "    train_df['Sex'] = pd.to_numeric(train_df['Sex'])\n",
    "\n",
    "    train_df['Ascites'] = train_df['Ascites'].replace(['N', 'Y'], [0, 1])\n",
    "    train_df['Ascites'] = pd.to_numeric(train_df['Ascites'])\n",
    "\n",
    "    train_df['Hepatomegaly'] = train_df['Hepatomegaly'].replace(['N', 'Y'], [0, 1])\n",
    "    train_df['Hepatomegaly'] = pd.to_numeric(train_df['Hepatomegaly'])\n",
    "\n",
    "    train_df['Spiders'] = train_df['Spiders'].replace(['N', 'Y'], [0, 1])\n",
    "    train_df['Spiders'] = pd.to_numeric(train_df['Spiders'])\n",
    "\n",
    "    train_df['Edema'] = train_df['Edema'].replace(['N', 'S', 'Y'], [0.2, 0.4, 0.6])\n",
    "    train_df['Edema'] = pd.to_numeric(train_df['Edema'])\n",
    "\n",
    "    train_df['Drug'] = train_df['Drug'].replace(['D-penicillamine', 'Placebo'], [0, 1])\n",
    "    train_df['Drug'] = pd.to_numeric(train_df['Drug'])\n",
    "    return train_df\n",
    "\n",
    "train_df = colchange(train_df)\n",
    "test_df = colchange(test_df)\n",
    "\n",
    "train_df['Status'] = train_df['Status'].replace(['C', 'CL', 'D'], [0, 1, 2])\n",
    "train_df['Status'] = pd.to_numeric(train_df['Status'])"
   ]
  },
  {
   "cell_type": "code",
   "execution_count": 8,
   "metadata": {},
   "outputs": [],
   "source": [
    "def scale(X):\n",
    "    from sklearn import preprocessing\n",
    "    scaled=preprocessing.StandardScaler()\n",
    "    scaler=scaled.fit(X)\n",
    "    X=scaler.transform(X)\n",
    "    return X"
   ]
  },
  {
   "cell_type": "code",
   "execution_count": 9,
   "metadata": {},
   "outputs": [],
   "source": [
    "def evaluate(y_test,ypred):\n",
    "    from sklearn.metrics import recall_score\n",
    "    from sklearn.metrics import accuracy_score\n",
    "    from sklearn.metrics import confusion_matrix\n",
    "    import plotly.express as px\n",
    "    y_test['Status']=y_test['Status'].replace(['C', 'CL', 'D'],[1,2,3])\n",
    "    y_pred=pd.DataFrame(data=ypred, columns=['Status'])\n",
    "    y_pred['Status']=y_pred['Status'].replace(['C', 'CL', 'D'],[1,2,3])\n",
    "\n",
    "    print(\"Accuracy: \",accuracy_score(y_test,y_pred)) \n",
    "    print(\"Recall Score: \", recall_score(y_test,y_pred, average='macro')) #Recall measures the proportion of true positive predictions among all actual positive instalnces. If we predicted 100 survived correctly whereas actually 100 survived out of which 67 predicted correctly so recall will be 0.67\n",
    "    cm = confusion_matrix(y_test, y_pred)\n",
    "    plt.figure(figsize=(20, 20))\n",
    "    sns.heatmap(cm,annot=True, cmap='Blues')"
   ]
  },
  {
   "cell_type": "code",
   "execution_count": null,
   "metadata": {},
   "outputs": [],
   "source": [
    "train_df['Status']=pd.Categorical(train_df['Status'])\n",
    "X=train_df[['N_Days', 'Drug', 'Age', 'Sex', 'Ascites', 'Hepatomegaly', 'Spiders',\n",
    "       'Edema', 'Bilirubin', 'Cholesterol', 'Albumin', 'Copper', 'Alk_Phos',\n",
    "       'SGOT', 'Tryglicerides', 'Platelets', 'Prothrombin', 'Stage']]\n",
    "y=train_df[['Status']]\n",
    "train_df['Status']=train_df['Status'].replace(['C', 'CL', 'D'],[0.2,0.4,0.6])\n",
    "corr = train_df.select_dtypes('number').corr()\n",
    "plt.figure(figsize=(20, 20))\n",
    "s=sns.heatmap(corr,annot=True, cmap='Blues')"
   ]
  },
  {
   "cell_type": "code",
   "execution_count": null,
   "metadata": {},
   "outputs": [],
   "source": [
    "from sklearn.model_selection import train_test_split\n",
    "X_train,X_test,y_train,y_test=train_test_split(scale(X),y,train_size=0.8, random_state=42)\n",
    "y_train.info()"
   ]
  },
  {
   "cell_type": "code",
   "execution_count": 12,
   "metadata": {},
   "outputs": [],
   "source": [
    "def scale(X):\n",
    "    scaled = preprocessing.StandardScaler()\n",
    "    scaler = scaled.fit(X)\n",
    "    X = scaler.transform(X)\n",
    "    return X\n"
   ]
  },
  {
   "cell_type": "code",
   "execution_count": 13,
   "metadata": {},
   "outputs": [],
   "source": [
    "# Feature Selection\n",
    "X = train_df[['N_Days', 'Drug', 'Age', 'Sex', 'Ascites', 'Hepatomegaly', 'Spiders',\n",
    "              'Edema', 'Bilirubin', 'Cholesterol', 'Albumin', 'Copper', 'Alk_Phos',\n",
    "              'SGOT', 'Tryglicerides', 'Platelets', 'Prothrombin', 'Stage']]\n",
    "\n",
    "y = train_df['Status']"
   ]
  },
  {
   "cell_type": "code",
   "execution_count": 14,
   "metadata": {},
   "outputs": [],
   "source": [
    "X_train, X_test, y_train, y_test = train_test_split(scale(X), y, train_size=0.7, random_state=42)"
   ]
  },
  {
   "cell_type": "code",
   "execution_count": null,
   "metadata": {},
   "outputs": [],
   "source": [
    "nb = GaussianNB()\n",
    "nb.fit(X_train, y_train)\n",
    "print(nb.score(X_train, y_train))\n",
    "y_pred = nb.predict(X_test)\n"
   ]
  },
  {
   "cell_type": "code",
   "execution_count": null,
   "metadata": {},
   "outputs": [],
   "source": [
    "def evaluate(y_test, y_pred):\n",
    "    print(\"Accuracy: \", accuracy_score(y_test, y_pred))\n",
    "    print(\"Recall Score: \", recall_score(y_test, y_pred, average='macro'))\n",
    "    cm = confusion_matrix(y_test, y_pred)\n",
    "    plt.figure(figsize=(8, 6))\n",
    "    sns.heatmap(cm, annot=True, cmap='Blues')\n",
    "evaluate(y_test, y_pred)"
   ]
  },
  {
   "cell_type": "code",
   "execution_count": 17,
   "metadata": {},
   "outputs": [],
   "source": [
    "X_test = test_df.drop(['id'], axis=1)\n",
    "y_pred_proba = nb.predict_proba(scale(X_test))\n",
    "assert y_pred_proba.shape == (test_df.shape[0], 3)\n",
    "submission_labels = [\"Status_C\", \"Status_CL\", \"Status_D\"]\n",
    "submission = pd.DataFrame({\"id\": test_df.id, **dict(zip(submission_labels, y_pred_proba.T))})\n",
    "submission.to_csv('submission.csv', index=False)"
   ]
  },
  {
   "cell_type": "code",
   "execution_count": null,
   "metadata": {},
   "outputs": [],
   "source": [
    "import pandas as pd\n",
    "submission = pd.read_csv('submission.csv')\n",
    "threshold = 0.5\n",
    "submission['Survival'] = submission['Status_C'] > threshold\n",
    "for index, row in submission.iterrows():\n",
    "    print(f\"Patient {index}: {'Survive' if row['Survival'] else 'Not Survive'}\") "
   ]
  }
 ],
 "metadata": {
  "kernelspec": {
   "display_name": "Python 3",
   "language": "python",
   "name": "python3"
  },
  "language_info": {
   "codemirror_mode": {
    "name": "ipython",
    "version": 3
   },
   "file_extension": ".py",
   "mimetype": "text/x-python",
   "name": "python",
   "nbconvert_exporter": "python",
   "pygments_lexer": "ipython3",
   "version": "3.11.9"
  }
 },
 "nbformat": 4,
 "nbformat_minor": 2
}
